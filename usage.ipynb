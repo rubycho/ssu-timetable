{
 "cells": [
  {
   "cell_type": "code",
   "execution_count": 1,
   "metadata": {
    "pycharm": {
     "is_executing": false
    }
   },
   "outputs": [],
   "source": [
    "def short_print(data: str, offset: int):\n",
    "    print(data[0:offset])\n",
    "    print('...')\n",
    "    print(data[-offset:-1])"
   ]
  },
  {
   "cell_type": "code",
   "execution_count": 2,
   "metadata": {
    "pycharm": {
     "is_executing": false
    },
    "scrolled": true
   },
   "outputs": [
    {
     "name": "stdout",
     "output_type": "stream",
     "text": [
      "[('1954', '1954학년도'), ('1955', '1955학년도'), ('1956', '1956학년도'), ('1957', '1957학년도'), ('1958', '1958학년도'), ('1959', '1959학년도'), ('1960', '1960학년도'), ('1961', '1961학년도'), ('1962', '1962학년도'), ('1963', '1963학년도'), ('1964', '1964학년도'), ('1965', '1965학년도'), ('1966', '1966학년도'), ('1967', '1967학년도'), ('1968', '1968학년도'), ('1969', '1969학년도'), ('1970', '1970학년도'), ('1971', '1971학년도'), ('1972', '1972학년도'), ('1973', '1973학년도'), ('1974', '1974학년도'), ('1975', '1975학년도'), ('1976', '1976학년도'), ('1977', '1977학년도'), ('1978', '1978학년도'), ('1979', '1979학년도'), ('1980', '1980학년도'), ('1981', '1981학년도'), ('1982', '1982학년도'), ('1983', '1983학년도'), ('1984', '1984학년도'), ('1985', '1985학년도'), ('1986', '1986학년도'), ('1987', '1987학년도'), ('1988', '1988학년도'), ('1989', '1989학년도'), ('1990', '1990학년도'), ('1991', '1991학년도'), ('1992', '1992학년도'), ('1993', '1993학년도'), ('1994', '1994학년도'), ('1995', '1995학년도'), ('1996', '1996학년도'), ('1997', '1997학년도'), ('1998', '1998학년도'), ('1999', '1999학년도'), ('2000', '2000학년도'), ('2001', '2001학년도'), ('2002', '2002학년도'), ('2003', '2003학년도'), ('2004', '2004학년도'), ('2005', '2005학년도'), ('2006', '2006학년도'), ('2007', '2007학년도'), ('2008', '2008학년도'), ('2009', '2009학년도'), ('2010', '2010학년도'), ('2011', '2011학년도'), ('2012', '2012학년도'), ('2013', '2013학년도'), ('2014', '2014학년도'), ('2015', '2015학년도'), ('2016', '2016학년도'), ('2017', '2017학년도'), ('2018', '2018학년도'), ('2019', '2019학년도'), ('2020', '2020학년도'), ('2021', '2021학년도'), ('2022', '2022학년도'), ('2023', '2023학년도'), ('2024', '2024학년도'), ('2025', '2025학년도'), ('2026', '2026학년도'), ('2027', '2027학년도'), ('2028', '2028학년도'), ('2029', '2029학년도'), ('2030', '2030학년도')]\n",
      "[('090', '1 학기'), ('091', '여름학기'), ('092', '2 학기'), ('093', '겨울학기')]\n",
      "[('10', '10줄'), ('20', '20줄'), ('50', '50줄'), ('100', '100줄'), ('200', '200줄'), ('500', '500줄')]\n"
     ]
    }
   ],
   "source": [
    "from timetable import Config, Parser, Sanitizer, ParserActions\n",
    "\n",
    "config = Config()\n",
    "parser = Parser(config)\n",
    "\n",
    "parser.action(ParserActions.INIT, None)\n",
    "\n",
    "print(parser.get_selection(ParserActions.YEAR))\n",
    "print(parser.get_selection(ParserActions.SEMESTER))\n",
    "print(parser.get_selection(ParserActions.LINE))"
   ]
  },
  {
   "cell_type": "code",
   "execution_count": 3,
   "metadata": {
    "pycharm": {
     "is_executing": false,
     "name": "#%%\n"
    }
   },
   "outputs": [
    {
     "name": "stdout",
     "output_type": "stream",
     "text": [
      "[('WDE9', '학부전공별학부전공별'), ('WD010B', '교양필수교양필수'), ('WD010E', '교양선택교양선택'), ('WD0111', '교직교직'), ('WD0114', '평생교육사평생교육사'), ('WD0117', '일반선택일반선택'), ('WD011A', '대학원대학원'), ('WD011D', '연계전공연계전공'), ('WD0120', '융합전공융합전공'), ('WD0123', '교수명검색교수명검색'), ('WD0126', '과목검색과목검색'), ('WD0129', '타전공인정과목타전공인정과목'), ('WD012C', '듀얼리스팅과목듀얼리스팅과목')]\n"
     ]
    }
   ],
   "source": [
    "parser.action(ParserActions.YEAR, 2020)\n",
    "parser.action(ParserActions.SEMESTER, '090')\n",
    "parser.action(ParserActions.LINE, '500')\n",
    "\n",
    "print(parser.get_selection(ParserActions.TAB))"
   ]
  },
  {
   "cell_type": "code",
   "execution_count": 4,
   "metadata": {
    "pycharm": {
     "is_executing": false,
     "name": "#%%\n"
    }
   },
   "outputs": [
    {
     "name": "stdout",
     "output_type": "stream",
     "text": [
      "[('11000001', '인문대학'), ('11000012', '자연과학대학'), ('11000017', '법과대학'), ('11000019', '사회과학대학'), ('11000025', '경제통상대학'), ('50057775', '경영대학'), ('11000029', '공과대학'), ('11000037', 'IT대학'), ('11000163', '베어드교양대학'), ('10002225', '융합특성화자유전공학부')]\n"
     ]
    }
   ],
   "source": [
    "parser.action(ParserActions.TAB, 'WDE9')\n",
    "\n",
    "print(parser.get_selection(ParserActions.SEL1))"
   ]
  },
  {
   "cell_type": "code",
   "execution_count": 5,
   "metadata": {
    "pycharm": {
     "is_executing": false,
     "name": "#%%\n"
    }
   },
   "outputs": [
    {
     "name": "stdout",
     "output_type": "stream",
     "text": [
      "[('10002101', '전자정보공학부 전자공학전공'), ('10002102', '전자정보공학부 IT융합전공'), ('11000038', '컴퓨터학부'), ('10001326', '소프트웨어학부'), ('11000036', '정보통신전자공학부'), ('10001327', '스마트시스템소프트웨어학과'), ('11000039', '글로벌미디어학부'), ('10001403', '미디어경영학과')]\n"
     ]
    }
   ],
   "source": [
    "parser.action(ParserActions.SEL1, '11000037')\n",
    "\n",
    "print(parser.get_selection(ParserActions.SEL2))"
   ]
  },
  {
   "cell_type": "code",
   "execution_count": 6,
   "metadata": {
    "pycharm": {
     "is_executing": false,
     "name": "#%%\n"
    }
   },
   "outputs": [
    {
     "name": "stdout",
     "output_type": "stream",
     "text": [
      "[('50296767', '스마트시스템소프트웨어학과')]\n"
     ]
    }
   ],
   "source": [
    "parser.action(ParserActions.SEL2, '10001327')\n",
    "\n",
    "print(parser.get_selection(ParserActions.SEL3))"
   ]
  },
  {
   "cell_type": "code",
   "execution_count": 7,
   "metadata": {
    "pycharm": {
     "is_executing": false
    }
   },
   "outputs": [
    {
     "name": "stdout",
     "output_type": "stream",
     "text": [
      "<tbody id=\"WD0176-contentTBody\"><tr rt=\"2\"><th captionid=\"WD017B\" class=\"urSTHC urBorderBox urST5HCMetricStd lsSTHdrSepBrdTop lsSTHdrSepBrdBottom urST5HCColorLvl1 urST4LbHdrBg\" headertype=\"S\" id=\"WD017A\" lsdata=\"{7:'강의계획서\\x20유무\\x20\\x2801\\x3a\\x20없음,\\x2002\\x3a\\x20있음\\x29'}\" lsmatrixrowindex=\"-2147483648\" sst=\"4\" style=\"text-align:center;\" subct=\"HC\" title=\"강의계획서 유무 (01: 없음, 02: 있음)\"><div class=\"urBorderBox\" style=\"height:100%;width:100%;overflow:hidden;\"><div align=\"center\" class=\"ls-sthcfocus urST5HCMetricContent urBorderBox urST5HCMetricSelColToggleWidth\" style=\"white-space:nowrap;\" title=\"강의계획서 유무 (01: 없음, 02: 있음)\"><span id=\"WD017A-CONTENT\" style=\"white-space:nowrap;\"><span class=\"\" ct=\"CP\" id=\"WD017B\" lsdata=\"{0:'강의계획서\\x20유무\\x20\\x2801\\x3a\\x20없음,\\x2002\\x3a\\x20있음\\x29',1:'계획',6:false}\" title=\"강의계획서 유무 (01: 없음, 02: 있음)\">계획</span></span></div></div></th><th acf=\"HCSORT\" captionid=\"WD017D\" class=\"urSTHC urBorderBox urST5HCMetricStd lsSTHdrSepBrdTop lsSTHdrSepBrdBottom urST5HCColorLvl1 urST4\n",
      "...\n",
      "692\" lsdata=\"{3:'ALTERNATING'}\" style=\"white-space:normal;vertical-align:top;\" subct=\"STC\" ut=\"2\"><span class=\"lsTextView--root lsControl--valign\" id=\"WD0693-r\"><span class=\"lsTextView lsTextView--paragraph lsTextView--usedInTable urTxtStd urTxtColor\" ct=\"TV\" id=\"WD0693\" lsdata=\"{11:true}\" style=\"white-space:normal;\" tabindex=\"-1\" ti=\"-1\">월 수 12:00-13:15 (숭덕경상관 02212-황선욱)</span></span></td><td cc=\"14\" class=\"urSTC urST3TD urAlt\" id=\"WD0694\" lsdata=\"{3:'ALTERNATING'}\" style=\"white-space:normal;vertical-align:top;\" subct=\"STC\" ut=\"2\"><span class=\"lsTextView--root lsControl--valign\" id=\"WD0695-r\"><span class=\"lsTextView lsTextView--paragraph lsTextView--usedInTable urTxtStd urTxtColor\" ct=\"TV\" id=\"WD0695\" lsdata=\"{11:true}\" style=\"white-space:normal;\" tabindex=\"-1\" ti=\"-1\">2학년 전자정보, 신소재, 전기, 기계, 화공, 산업정보 ,건축학부, 건축공학<br/>3학년 전자정보, 신소재, 전기, 기계, 화공, 산업정보 ,건축학부, 건축공학<br/>4학년 전자정보, 신소재, 전기, 기계, 화공, 산업정보 ,건축학부, 건축공학<br/>5학년 전자정보, 신소재, 전기, 기계, 화공, 산업정보 ,건축학부, 건축공학</span></span></td></tr></tbody\n"
     ]
    }
   ],
   "source": [
    "parser.action(ParserActions.SEL3, '50296767')\n",
    "parser.action(ParserActions.SEARCH, None)\n",
    "\n",
    "short_print(parser.get_data(ParserActions.SEARCH), 1000)"
   ]
  },
  {
   "cell_type": "code",
   "execution_count": 8,
   "metadata": {
    "pycharm": {
     "is_executing": false
    }
   },
   "outputs": [
    {
     "name": "stdout",
     "output_type": "stream",
     "text": [
      "LENGTH: 40\n",
      "[['계획', '이수구분(주전공)', '이수구분(다전공)', '공학인증', '교과영역', '과목번호', '과목명', '분반', '교수명', '개설학과', '시간/학점(설계)', '수강인원', '여석', '강의시간(강의실)', '수강대상'], [' ', '전기-스마트시스템', ' ', ' ', ' ', '5006762801', '(공통)물리1및실험', ' ', '김창배\\r\\n김창배\\r\\n최현희\\r\\n최현희', '물리학과', '4.00 /3.0 (0 )', '24', '1', '월 15:00-15:50 (조만식기념관 12124-김창배)\\r\\n월 16:00-16:50 (조만식기념관 12124-김창배)\\r\\n수 15:00-15:50 (형남공학관 050107-최현희)\\r\\n수 16:00-16:50 (형남공학관 050107-최현희)', '전체학년 기계 ,화공 ,전기 ,건축학부 ,신소재 ,정통전, 전자정보공학부 ,스마트시스템소프트 ,물리 ,화학 ,건축학부'], [' ', '전기-스마트시스템', ' ', ' ', ' ', '5006762802', '(공통)물리1및실험', ' ', '최현희\\r\\n최현희\\r\\n최현희\\r\\n최현희', '물리학과', '4.00 /3.0 (0 )', '25', '0', '월 15:00-15:50 (조만식기념관 12214-최현희)\\r\\n월 16:00-16:50 (조만식기념관 12214-최현희)\\r\\n수 15:00-15:50 (형남공학관 050107-최현희)\\r\\n수 16:00-16:50 (형남공학관 050107-최현희)', '전체학년 기계 ,화공 ,전기 ,건축학부 ,신소재 ,정통전, 전자정보공학부 ,스마트시스템소프트 ,물리 ,화학 ,건축학부'], [' ', '전선-스마트시스템', '융필-빅데이터융합/융필-빅데이터융합', ' ', ' ', '2150687601', '빅데이터분석', ' ', '김희찬\\r\\n김희찬', '소프트웨어학부', '3.00 /3.0', '55', '0', '월 16:30-17:45 (정보과학관 21203 김재상강의실-김희찬)\\r\\n수 16:30-17:45 (정보과학관 21101-김희찬)', '전체학년 빅데이터융합'], [' ', '전선-스마트시스템', ' ', ' ', ' ', '5008716301', '전공심화전문가양성교육(3)', ' ', ' ', '경력개발팀', '3.00 /3.0', '0', '0', ' ', '학점인정 승인 대상 과목으로 직접 신청 불가(1학년 및 순수외국인 신청 불가)'], [' ', '전선-스마트시스템', ' ', ' ', ' ', '5008716801', '전공심화전문가양성교육(6)', ' ', ' ', '경력개발팀', '6.00 /6.0', '0', '0', ' ', '학점인정 승인 대상 과목으로 직접 신청 불가(1학년 및 순수외국인 신청 불가)'], [' ', '전기-스마트시스템', ' ', ' ', ' ', '2150679701', '공학수학', ' ', '정선태\\r\\n정선태', '스마트시스템소프트웨어학과', '3.00 /3.0', '60', '0', '화 13:30-14:45 (문화관 03407-정선태)\\r\\n목 13:30-14:45 (문화관 03314-정선태)', '1학년 스마트시스템소프트'], [' ', '전기-스마트시스템', ' ', ' ', ' ', '2150054401', '물리및실험', ' ', '홍영우\\r\\n홍영우\\r\\n최현희\\r\\n최현희', '스마트시스템소프트웨어학과', '4.00 /3.0', '11', '14', '월 09:00-09:50 (정보과학관 21403-홍영우)\\r\\n월 10:00-10:50 (정보과학관 21403-홍영우)\\r\\n화 09:00-09:50 (조만식기념관 12123-최현희)\\r\\n화 10:00-10:50 (조만식기념관 12123-최현희)', '1학년 스마트시스템소프트'], [' ', '전기-스마트시스템', ' ', ' ', ' ', '2150054402', '물리및실험', ' ', '김수경\\r\\n김수경\\r\\n김수경\\r\\n김수경', '스마트시스템소프트웨어학과', '4.00 /3.0', '25', '0', '월 09:00-09:50 (조만식기념관 12123-김수경)\\r\\n월 10:00-10:50 (조만식기념관 12123-김수경)\\r\\n화 09:00-09:50 (컴퓨터학부 PC실습실 21303-김수경)\\r\\n화 10:00-10:50 (컴퓨터학부 PC실습실 21303-김수경)', '1학년 스마트시스템소프트'], [' ', '전기-스마트시스템', ' ', ' ', ' ', '2150054403', '물리및실험', ' ', '김창배\\r\\n김창배\\r\\n김수경\\r\\n김수경', '스마트시스템소프트웨어학과', '4.00 /3.0', '25', '0', '월 12:00-12:50 (조만식기념관 12123-김창배)\\r\\n월 13:00-13:50 (조만식기념관 12123-김창배)\\r\\n화 09:00-09:50 (컴퓨터학부 PC실습실 21303-김수경)\\r\\n화 10:00-10:50 (컴퓨터학부 PC실습실 21303-김수경)', '1학년 스마트시스템소프트']]\n"
     ]
    }
   ],
   "source": [
    "data = Sanitizer.table_to_list(parser.get_data(ParserActions.SEARCH))\n",
    "\n",
    "print(\"LENGTH: \" + str(len(data)))\n",
    "print(data[0:10])"
   ]
  },
  {
   "cell_type": "code",
   "execution_count": 9,
   "metadata": {
    "pycharm": {
     "is_executing": false
    }
   },
   "outputs": [
    {
     "name": "stdout",
     "output_type": "stream",
     "text": [
      "[('WDE9', '학부전공별학부전공별'), ('WD010B', '교양필수교양필수'), ('WD010E', '교양선택교양선택'), ('WD0111', '교직교직'), ('WD0114', '평생교육사평생교육사'), ('WD0117', '일반선택일반선택'), ('WD011A', '대학원대학원'), ('WD011D', '연계전공연계전공'), ('WD0120', '융합전공융합전공'), ('WD0123', '교수명검색교수명검색'), ('WD0126', '과목검색과목검색'), ('WD0129', '타전공인정과목타전공인정과목'), ('WD012C', '듀얼리스팅과목듀얼리스팅과목')]\n"
     ]
    }
   ],
   "source": [
    "print(parser.get_selection(ParserActions.TAB))"
   ]
  },
  {
   "cell_type": "code",
   "execution_count": 10,
   "metadata": {
    "pycharm": {
     "is_executing": false
    }
   },
   "outputs": [
    {
     "name": "stdout",
     "output_type": "stream",
     "text": [
      "1\n",
      "[('00.0000', '전체'), ('10.1001', \"['15이전]문학과예술(융합-인문)\"), ('10.1004', \"['15이전]역사와철학(융합-인문)\"), ('10.1008', \"['15이전]정보와기술(융합-자연)\"), ('10.1025', \"['15이전]창의성과의사소통능력(핵심-창의)\"), ('10.1030', \"['15이전]세계의언어(핵심-창의)\"), ('10.1035', \"['15이전]세계의문화와국제관계(핵심-창의)\"), ('10.1040', \"['15이전]인간과사회(융합-사회)\"), ('10.1045', \"['15이전]정치와경제(융합-사회)\"), ('10.1050', \"['15이전]자연과학과수리(융합-자연)\"), ('10.1055', \"['15이전]생활과건강(실용-생활)\"), ('10.1060', \"['15이전]학문과진로탐색(실용-생활)\"), ('10.1065', \"['15이전]인성과리더쉽(핵심-창의)\"), ('10.1066', \"['16-'18]숭실품성(인성-종교가치인성교육)\"), ('10.1067', \"['16-'18]숭실품성(인성-가치관및윤리교육)\"), ('10.1068', \"['16-'18]숭실품성(인성-공동체인성교육)\"), ('10.1069', \"['16-'18]숭실품성(리더십-통일리더십)\"), ('10.1070', \"['16-'18]숭실품성(리더십-리더십이론및실천)\"), ('10.1071', \"['16-'18]기초역량(사고력-논리및비판적사고)\"), ('10.1072', \"['16-'18]기초역량(사고력-창의및융합적사고)\"), ('10.1073', \"['16-'18]기초역량(사고력-수리적사고)\"), ('10.1074', \"['16-'18]기초역량(한국어의사소통-읽기와쓰기)\"), ('10.1075', \"['16-'18]기초역량(한국어의사소통-의사소통)\"), ('10.1076', \"['16-'18]기초역량(국제어문-영어)\"), ('10.1077', \"['16-'18]기초역량(국제어문-국제어)\"), ('10.1078', \"['16-'18]기초역량(국제어문-고전어문 )\"), ('10.1079', \"['16-'18]기초역량(과학정보기술-과학)\"), ('10.1080', \"['16-'18]기초역량(과학정보기술-정보기술)\"), ('10.1081', \"['16-'18]균형교양(인문학-문학/어학/예술)\"), ('10.1082', \"['16-'18]균형교양(인문학-역사)\"), ('10.1083', \"['16-'18]균형교양(인문학-철학/사상)\"), ('10.1084', \"['16-'18]균형교양(사회과학-사회/정치/경제)\"), ('10.1085', \"['16-'18]균형교양(사회과학-문화및문명)\"), ('10.1086', \"['16-'18]균형교양(자연과학-자연과학)\"), ('10.1087', \"['16-'18]실용교양(개인과가족생활)\"), ('10.1088', \"['16-'18]실용교양(경제경영)\"), ('10.1089', \"['16-'18]실용교양(공공생활)\"), ('10.1090', \"['16-'18]실용교양(기술생활)\"), ('10.1091', \"['16-'18]실용교양(자기개발과진로탐색)\"), ('10.1092', \"['19]숭실품성-인성과 리더십\"), ('10.1093', \"['19]기초역량-한국어의사소통과국제어문\"), ('10.1094', \"['19]균형교양-인문학(인간/문화/사고력)\"), ('10.1095', \"['19]균형교양-사회과학(사회/역사)\"), ('10.1096', \"['19]균형교양-자연/공학(자연/과학/기술)\")]\n"
     ]
    }
   ],
   "source": [
    "parser.action(ParserActions.TAB, 'WD010E')\n",
    "\n",
    "print(parser.max_sel)\n",
    "print(parser.get_selection(ParserActions.SEL1))"
   ]
  },
  {
   "cell_type": "code",
   "execution_count": 11,
   "metadata": {
    "pycharm": {
     "is_executing": true
    }
   },
   "outputs": [
    {
     "name": "stdout",
     "output_type": "stream",
     "text": [
      "<tbody id=\"WD0176-contentTBody\"><tr rt=\"2\"><th captionid=\"WD017B\" class=\"urSTHC urBorderBox urST5HCMetricStd lsSTHdrSepBrdTop lsSTHdrSepBrdBottom urST5HCColorLvl1 urST4LbHdrBg\" headertype=\"S\" id=\"WD017A\" lsdata=\"{7:'강의계획서\\x20유무\\x20\\x2801\\x3a\\x20없음,\\x2002\\x3a\\x20있음\\x29'}\" lsmatrixrowindex=\"-2147483648\" sst=\"4\" style=\"text-align:center;\" subct=\"HC\" title=\"강의계획서 유무 (01: 없음, 02: 있음)\"><div class=\"urBorderBox\" style=\"height:100%;width:100%;overflow:hidden;\"><div align=\"center\" class=\"ls-sthcfocus urST5HCMetricContent urBorderBox urST5HCMetricSelColToggleWidth\" style=\"white-space:nowrap;\" title=\"강의계획서 유무 (01: 없음, 02: 있음)\"><span id=\"WD017A-CONTENT\" style=\"white-space:nowrap;\"><span class=\"\" ct=\"CP\" id=\"WD017B\" lsdata=\"{0:'강의계획서\\x20유무\\x20\\x2801\\x3a\\x20없음,\\x2002\\x3a\\x20있음\\x29',1:'계획',6:false}\" title=\"강의계획서 유무 (01: 없음, 02: 있음)\">계획</span></span></div></div></th><th acf=\"HCSORT\" captionid=\"WD017D\" class=\"urSTHC urBorderBox urST5HCMetricStd lsSTHdrSepBrdTop lsSTHdrSepBrdBottom urST5HCColorLvl1 urST4\n",
      "...\n",
      "TextView--usedInTable urTxtStd urTxtColor\" ct=\"TV\" id=\"WD32D4\" lsdata=\"{11:true}\" style=\"white-space:nowrap;\" tabindex=\"-1\" ti=\"-1\">0</span></span></td><td cc=\"13\" class=\"urSTC urST3TD\" id=\"WD32D5\" lsdata=\"{}\" style=\"white-space:normal;vertical-align:top;\" subct=\"STC\" ut=\"2\"><span class=\"lsTextView--root lsControl--valign\" id=\"WD32D6-r\"><span class=\"lsTextView lsTextView--paragraph lsTextView--usedInTable urTxtStd urTxtColor\" ct=\"TV\" id=\"WD32D6\" lsdata=\"{11:true}\" style=\"white-space:normal;\" tabindex=\"-1\" ti=\"-1\">화 금 16:30-17:45 (문화관 03312-LEE IL WOO)</span></span></td><td cc=\"14\" class=\"urSTC urST3TD\" id=\"WD32D7\" lsdata=\"{}\" style=\"white-space:normal;vertical-align:top;\" subct=\"STC\" ut=\"2\"><span class=\"lsTextView--root lsControl--valign\" id=\"WD32D8-r\"><span class=\"lsTextView lsTextView--paragraph lsTextView--usedInTable urTxtStd urTxtColor\" ct=\"TV\" id=\"WD32D8\" lsdata=\"{11:true}\" style=\"white-space:normal;\" tabindex=\"-1\" ti=\"-1\">1학년 전체 (대상외수강제한)(대상외수강제한)</span></span></td></tr></tbody\n"
     ]
    }
   ],
   "source": [
    "parser.action(ParserActions.SEL1, '00.0000')\n",
    "parser.action(ParserActions.SEARCH, None)\n",
    "\n",
    "short_print(parser.get_data(ParserActions.SEARCH), 1000)"
   ]
  },
  {
   "cell_type": "code",
   "execution_count": 12,
   "metadata": {
    "pycharm": {
     "is_executing": true
    }
   },
   "outputs": [
    {
     "name": "stdout",
     "output_type": "stream",
     "text": [
      "LENGTH: 353\n",
      "[['계획', '이수구분(주전공)', '이수구분(다전공)', '공학인증', '교과영역', '과목번호', '과목명', '분반', '교수명', '개설학과', '시간/학점(설계)', '수강인원', '여석', '강의시간(강의실)', '수강대상'], [' ', '교선', ' ', ' ', \"['19]기초역량-한국어의사소통과국제어문\\r\\n['16-'18]기초역량(한국어의사소통-읽기와쓰기)\\r\\n['15이전]창의성과의사소통능력(핵심-창의)\", '2150011601', '(외국인을위한)한국사상의이해', ' ', '최동일', '베어드교양대학 행정팀', '3.00 /3.0', '50', '0', '월 목 15:00-16:15 (미래관 20401-최동일)', '전체학년 전체;순수외국인입학생 (대상외수강제한)(대상외수강제한)'], [' ', '교선', ' ', ' ', \"['19]기초역량-한국어의사소통과국제어문\\r\\n['16-'18]기초역량(한국어의사소통-읽기와쓰기)\\r\\n['15이전]창의성과의사소통능력(핵심-창의)\", '2150011701', '(외국인을위한)한류와대중문화의이해', ' ', '윤선희', '베어드교양대학 행정팀', '3.00 /3.0', '50', '0', '월 목 15:00-16:15 (미래관 20204 윤동주강의실-윤선희)', '전체학년 전체;순수외국인입학생 (대상외수강제한)(대상외수강제한)'], [' ', '교선', ' ', ' ', \"['19]기초역량-한국어의사소통과국제어문\\r\\n['16-'18]기초역량(한국어의사소통-읽기와쓰기)\\r\\n['15이전]창의성과의사소통능력(핵심-창의)\", '2150011801', '(외국인을위한)한국어학의이해', ' ', '박정순', '베어드교양대학 행정팀', '3.00 /3.0', '50', '0', '월 목 13:30-14:45 (미래관 20401-박정순)', '전체학년 전체;순수외국인입학생 (대상외수강제한)(대상외수강제한)'], [' ', '교선', ' ', ' ', \"['19]기초역량-한국어의사소통과국제어문\\r\\n['16-'18]기초역량(한국어의사소통-읽기와쓰기)\\r\\n['15이전]창의성과의사소통능력(핵심-창의)\", '2150011901', '(외국인을위한)디지털시대의글쓰기', ' ', '박동억', '베어드교양대학 행정팀', '3.00 /3.0', '48', '2', '월 목 13:30-14:45 (미래관 20204 윤동주강의실-박동억)', '전체학년 전체;순수외국인입학생 (대상외수강제한)(대상외수강제한)'], [' ', '교선', ' ', ' ', \"['15이전]창의성과의사소통능력(핵심-창의)\\r\\n['16-'18]기초역량(사고력-창의및융합적사고)\\r\\n['19]균형교양-인문학(인간/문화/사고력)\", '2150021601', '창의적문제해결(캡스톤디자인)', ' ', '김용진', '영어영문학과', '3.00 /3.0', '20', '0', '화 목 13:30-14:45 (조만식기념관 12524 안재국강의실-김용진)', '3학년 전체\\r\\n4학년 전체'], [' ', '교선', ' ', ' ', \"['15이전]창의성과의사소통능력(핵심-창의)\\r\\n['16-'18]기초역량(사고력-창의및융합적사고)\\r\\n['19]균형교양-인문학(인간/문화/사고력)\", '2150021701', '창의적문제해결(캡스톤디자인)', ' ', '조경희', '불어불문학과', '3.00 /3.0', '15', '1', '월 금 16:30-17:45 (조만식기념관 12406-조경희)', '3학년 전체\\r\\n4학년 전체'], [' ', '교선', '연계1-융합창업', ' ', \"['15이전]인성과리더쉽(핵심-창의)\\r\\n['16-'18]숭실품성(리더십-리더십이론및실천)\\r\\n['19]숭실품성-인성과리더십\", '2150023201', '벤처트렌드와기업가정신', ' ', '황보우\\r\\n황보우', '창업교육·지원팀', '3.00 /3.0', '21', '19', '목 16:30-17:45 (조만식기념관 12326 조해자강의실-황보우)\\r\\n목 18:00-19:15 (조만식기념관 12326 조해자강의실-황보우)', '전체'], [' ', '교선', '연계1-융합창업', ' ', \"['15이전]인성과리더쉽(핵심-창의)\\r\\n['16-'18]숭실품성(리더십-리더십이론및실천)\\r\\n['19]숭실품성-인성과리더십\", '2150023601', '대학생비즈니스모델디자인', ' ', '김영호\\r\\n김영호', '창업교육·지원팀', '3.00 /3.0', '30', '20', '월 15:00-16:15 (조만식기념관 12202-김영호)\\r\\n월 16:30-17:45 (조만식기념관 12202-김영호)', '전체'], [' ', '교선', ' ', ' ', \"['19]숭실품성-인성과리더십\\r\\n['16-'18]숭실품성(리더십-통일리더십)\\r\\n['15이전]인성과리더쉽(핵심-창의)\", '2150038801', '한반도평화와선교(숭실사이버대)(P/F) (온라인)', ' ', ' ', '학사팀', '3.00 /3.0', '1,356', '644', ' ', '국내교류생 수강제한\\r\\n국내교류생 수강제한\\r\\n국내교류생 수강제한\\r\\n국내교류생 수강제한\\r\\n국내교류생 수강제한']]\n"
     ]
    }
   ],
   "source": [
    "data = Sanitizer.table_to_list(parser.get_data(ParserActions.SEARCH))\n",
    "\n",
    "print(\"LENGTH: \" + str(len(data)))\n",
    "print(data[0:10])"
   ]
  },
  {
   "cell_type": "code",
   "execution_count": null,
   "metadata": {
    "pycharm": {
     "is_executing": true
    }
   },
   "outputs": [],
   "source": []
  }
 ],
 "metadata": {
  "kernelspec": {
   "display_name": "Python 3",
   "language": "python",
   "name": "python3"
  },
  "language_info": {
   "codemirror_mode": {
    "name": "ipython",
    "version": 3
   },
   "file_extension": ".py",
   "mimetype": "text/x-python",
   "name": "python",
   "nbconvert_exporter": "python",
   "pygments_lexer": "ipython3",
   "version": "3.6.8"
  },
  "pycharm": {
   "stem_cell": {
    "cell_type": "raw",
    "metadata": {
     "collapsed": false
    },
    "source": []
   }
  }
 },
 "nbformat": 4,
 "nbformat_minor": 1
}
