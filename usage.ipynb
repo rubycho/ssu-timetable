{
 "cells": [
  {
   "cell_type": "code",
   "execution_count": 1,
   "metadata": {
    "pycharm": {
     "is_executing": false
    }
   },
   "outputs": [],
   "source": [
    "def short_print(data: str, offset: int):\n",
    "    print(data[0:offset])\n",
    "    print('...')\n",
    "    print(data[-offset:-1])"
   ]
  },
  {
   "cell_type": "code",
   "execution_count": 2,
   "metadata": {
    "pycharm": {
     "is_executing": false
    },
    "scrolled": true
   },
   "outputs": [
    {
     "name": "stdout",
     "output_type": "stream",
     "text": [
      "[('1954', '1954학년도'), ('1955', '1955학년도'), ('1956', '1956학년도'), ('1957', '1957학년도'), ('1958', '1958학년도'), ('1959', '1959학년도'), ('1960', '1960학년도'), ('1961', '1961학년도'), ('1962', '1962학년도'), ('1963', '1963학년도'), ('1964', '1964학년도'), ('1965', '1965학년도'), ('1966', '1966학년도'), ('1967', '1967학년도'), ('1968', '1968학년도'), ('1969', '1969학년도'), ('1970', '1970학년도'), ('1971', '1971학년도'), ('1972', '1972학년도'), ('1973', '1973학년도'), ('1974', '1974학년도'), ('1975', '1975학년도'), ('1976', '1976학년도'), ('1977', '1977학년도'), ('1978', '1978학년도'), ('1979', '1979학년도'), ('1980', '1980학년도'), ('1981', '1981학년도'), ('1982', '1982학년도'), ('1983', '1983학년도'), ('1984', '1984학년도'), ('1985', '1985학년도'), ('1986', '1986학년도'), ('1987', '1987학년도'), ('1988', '1988학년도'), ('1989', '1989학년도'), ('1990', '1990학년도'), ('1991', '1991학년도'), ('1992', '1992학년도'), ('1993', '1993학년도'), ('1994', '1994학년도'), ('1995', '1995학년도'), ('1996', '1996학년도'), ('1997', '1997학년도'), ('1998', '1998학년도'), ('1999', '1999학년도'), ('2000', '2000학년도'), ('2001', '2001학년도'), ('2002', '2002학년도'), ('2003', '2003학년도'), ('2004', '2004학년도'), ('2005', '2005학년도'), ('2006', '2006학년도'), ('2007', '2007학년도'), ('2008', '2008학년도'), ('2009', '2009학년도'), ('2010', '2010학년도'), ('2011', '2011학년도'), ('2012', '2012학년도'), ('2013', '2013학년도'), ('2014', '2014학년도'), ('2015', '2015학년도'), ('2016', '2016학년도'), ('2017', '2017학년도'), ('2018', '2018학년도'), ('2019', '2019학년도'), ('2020', '2020학년도'), ('2021', '2021학년도'), ('2022', '2022학년도'), ('2023', '2023학년도'), ('2024', '2024학년도'), ('2025', '2025학년도'), ('2026', '2026학년도'), ('2027', '2027학년도'), ('2028', '2028학년도'), ('2029', '2029학년도'), ('2030', '2030학년도')]\n",
      "[('090', '1 학기'), ('091', '여름학기'), ('092', '2 학기'), ('093', '겨울학기')]\n"
     ]
    }
   ],
   "source": [
    "from timetable import Config, Parser, Sanitizer, ParserActions\n",
    "\n",
    "config = Config()\n",
    "parser = Parser(config)\n",
    "\n",
    "parser.action(ParserActions.INIT, None)\n",
    "\n",
    "print(parser.get_selection(ParserActions.YEAR))\n",
    "print(parser.get_selection(ParserActions.SEMESTER))"
   ]
  },
  {
   "cell_type": "code",
   "execution_count": 3,
   "metadata": {
    "pycharm": {
     "is_executing": false,
     "name": "#%%\n"
    }
   },
   "outputs": [
    {
     "name": "stdout",
     "output_type": "stream",
     "text": [
      "[('WDE9', '학부전공별학부전공별'), ('WD010B', '교양필수교양필수'), ('WD010E', '교양선택교양선택'), ('WD0111', '교직교직'), ('WD0114', '평생교육사평생교육사'), ('WD0117', '일반선택일반선택'), ('WD011A', '대학원대학원'), ('WD011D', '연계전공연계전공'), ('WD0120', '융합전공융합전공'), ('WD0123', '교수명검색교수명검색'), ('WD0126', '과목검색과목검색'), ('WD0129', '타전공인정과목타전공인정과목'), ('WD012C', '듀얼리스팅과목듀얼리스팅과목')]\n"
     ]
    }
   ],
   "source": [
    "parser.action(ParserActions.YEAR, 2019)\n",
    "parser.action(ParserActions.SEMESTER, '092')\n",
    "\n",
    "print(parser.get_selection(ParserActions.TAB))"
   ]
  },
  {
   "cell_type": "code",
   "execution_count": 4,
   "metadata": {
    "pycharm": {
     "is_executing": false,
     "name": "#%%\n"
    }
   },
   "outputs": [
    {
     "name": "stdout",
     "output_type": "stream",
     "text": [
      "[('11000001', '인문대학'), ('11000012', '자연과학대학'), ('11000017', '법과대학'), ('11000019', '사회과학대학'), ('11000025', '경제통상대학'), ('50057775', '경영대학'), ('11000029', '공과대학'), ('11000037', 'IT대학'), ('11000163', '베어드교양대학'), ('10002225', '융합특성화자유전공학부')]\n"
     ]
    }
   ],
   "source": [
    "parser.action(ParserActions.TAB, 'WDE9')\n",
    "\n",
    "print(parser.get_selection(ParserActions.SEL1))"
   ]
  },
  {
   "cell_type": "code",
   "execution_count": 5,
   "metadata": {
    "pycharm": {
     "is_executing": false,
     "name": "#%%\n"
    }
   },
   "outputs": [
    {
     "name": "stdout",
     "output_type": "stream",
     "text": [
      "[('10002101', '전자정보공학부 전자공학전공'), ('10002102', '전자정보공학부 IT융합전공'), ('11000038', '컴퓨터학부'), ('10001326', '소프트웨어학부'), ('11000036', '정보통신전자공학부'), ('10001327', '스마트시스템소프트웨어학과'), ('11000039', '글로벌미디어학부'), ('10001403', '미디어경영학과')]\n"
     ]
    }
   ],
   "source": [
    "parser.action(ParserActions.SEL1, '11000037')\n",
    "\n",
    "print(parser.get_selection(ParserActions.SEL2))"
   ]
  },
  {
   "cell_type": "code",
   "execution_count": 6,
   "metadata": {
    "pycharm": {
     "is_executing": false,
     "name": "#%%\n"
    }
   },
   "outputs": [
    {
     "name": "stdout",
     "output_type": "stream",
     "text": [
      "[('50296767', '스마트시스템소프트웨어학과')]\n"
     ]
    }
   ],
   "source": [
    "parser.action(ParserActions.SEL2, '10001327')\n",
    "\n",
    "print(parser.get_selection(ParserActions.SEL3))"
   ]
  },
  {
   "cell_type": "code",
   "execution_count": 7,
   "metadata": {
    "pycharm": {
     "is_executing": true
    }
   },
   "outputs": [
    {
     "name": "stdout",
     "output_type": "stream",
     "text": [
      "<tbody id=\"WD0176-contentTBody\"><tr rt=\"2\"><th captionid=\"WD017B\" class=\"urSTHC urBorderBox urST5HCMetricStd lsSTHdrSepBrdTop lsSTHdrSepBrdBottom urST5HCColorLvl1 urST4LbHdrBg\" headertype=\"S\" id=\"WD017A\" lsdata=\"{7:'강의계획서\\x20유무\\x20\\x2801\\x3a\\x20없음,\\x2002\\x3a\\x20있음\\x29'}\" lsmatrixrowindex=\"-2147483648\" sst=\"4\" style=\"text-align:center;\" subct=\"HC\" title=\"강의계획서 유무 (01: 없음, 02: 있음)\"><div class=\"urBorderBox\" style=\"height:100%;width:100%;overflow:hidden;\"><div align=\"center\" class=\"ls-sthcfocus urST5HCMetricContent urBorderBox urST5HCMetricSelColToggleWidth\" style=\"white-space:nowrap;\" title=\"강의계획서 유무 (01: 없음, 02: 있음)\"><span id=\"WD017A-CONTENT\" style=\"white-space:nowrap;\"><span class=\"\" ct=\"CP\" id=\"WD017B\" lsdata=\"{0:'강의계획서\\x20유무\\x20\\x2801\\x3a\\x20없음,\\x2002\\x3a\\x20있음\\x29',1:'계획',6:false}\" title=\"강의계획서 유무 (01: 없음, 02: 있음)\">계획</span></span></div></div></th><th acf=\"HCSORT\" captionid=\"WD017D\" class=\"urSTHC urBorderBox urST5HCMetricStd lsSTHdrSepBrdTop lsSTHdrSepBrdBottom urST5HCColorLvl1 urST4\n",
      "...\n",
      "tColor\" ct=\"TV\" id=\"WD0651\" lsdata=\"{11:true}\" style=\"white-space:nowrap;\" tabindex=\"-1\" ti=\"-1\">11</span></span></td><td cc=\"13\" class=\"urSTC urST3TD urAlt\" id=\"WD0652\" lsdata=\"{3:'ALTERNATING'}\" style=\"white-space:normal;vertical-align:top;\" subct=\"STC\" ut=\"2\"><span class=\"lsTextView--root lsControl--valign\" id=\"WD0653-r\"><span class=\"lsTextView lsTextView--paragraph lsTextView--usedInTable urTxtStd urTxtColor\" ct=\"TV\" id=\"WD0653\" lsdata=\"{11:true}\" style=\"white-space:normal;\" tabindex=\"-1\" ti=\"-1\">화 10:30-11:45 (정보과학관 21301-이상호)</span></span></td><td cc=\"14\" class=\"urSTC urST3TD urAlt\" id=\"WD0654\" lsdata=\"{3:'ALTERNATING'}\" style=\"white-space:normal;vertical-align:top;\" subct=\"STC\" ut=\"2\"><span class=\"lsTextView--root lsControl--valign\" id=\"WD0655-r\"><span class=\"lsTextView lsTextView--paragraph lsTextView--usedInTable urTxtStd urTxtColor\" ct=\"TV\" id=\"WD0655\" lsdata=\"{11:true}\" style=\"white-space:normal;\" tabindex=\"-1\" ti=\"-1\">4학년 빅데이터융합<br/>5학년 빅데이터융</span></span></td></tr></tbody\n"
     ]
    }
   ],
   "source": [
    "parser.action(ParserActions.SEL3, '50296767')\n",
    "parser.action(ParserActions.SEARCH, None)\n",
    "\n",
    "short_print(parser.get_data(ParserActions.SEARCH), 1000)"
   ]
  },
  {
   "cell_type": "code",
   "execution_count": 8,
   "metadata": {},
   "outputs": [
    {
     "name": "stdout",
     "output_type": "stream",
     "text": [
      "[['계획', '이수구분(주전공)', '이수구분(다전공)', '공학인증', '교과영역', '과목번호', '과목명', '분반', '교수명', '개설학과', '시간/학점(설계)', '수강인원', '여석', '강의시간(강의실)', '수강대상'], [' ', '전기-스마트시스템', ' ', ' ', ' ', '5006762801', '(공통)물리1및실험 ( 가 )', ' ', '박혜련\\r\\n박혜련\\r\\n김수경\\r\\n김수경', '물리학과', '4.00 /3.0 (0 )', '20', '5', '화 18:00-18:50 (조만식기념관 12123-박혜련)\\r\\n화 19:00-19:50 (조만식기념관 12123-박혜련)\\r\\n수 16:30-17:20 (숭덕경상관 02317-김수경)\\r\\n수 17:30-18:20 (숭덕경상관 02317-김수경)', '전체학년 기계 ,화공 ,전기 ,건축학부 ,신소재 ,정통전, 전자정보공학부 ,스마트시스템소프트 ,물리 ,화학 ,건축학부'], [' ', '전기-스마트시스템', ' ', ' ', ' ', '5006762802', '(공통)물리1및실험 ( 나 )', ' ', '박혜련\\r\\n박혜련\\r\\n김수경\\r\\n김수경', '물리학과', '4.00 /3.0 (0 )', '24', '1', '화 15:00-15:50 (조만식기념관 12123-박혜련)\\r\\n화 16:00-16:50 (조만식기념관 12123-박혜련)\\r\\n수 16:30-17:20 (숭덕경상관 02317-김수경)\\r\\n수 17:30-18:20 (숭덕경상관 02317-김수경)', '전체학년 기계 ,화공 ,전기 ,건축학부 ,신소재 ,정통전, 전자정보공학부 ,스마트시스템소프트 ,물리 ,화학 ,건축학부'], [' ', '전기-스마트시스템', ' ', ' ', ' ', '5006762901', '(공통)물리2및실험', ' ', '김수경\\r\\n김수경\\r\\n송현석\\r\\n송현석', '물리학과', '4.00 /3.0 (0 )', '17', '8', '화 16:30-17:20 (숭덕경상관 02317-김수경)\\r\\n화 17:30-18:20 (숭덕경상관 02317-김수경)\\r\\n목 12:00-12:50 (물리실험실 12215-송현석)\\r\\n목 13:00-13:50 (물리실험실 12215-송현석)', '전체학년 전기,기계,전자정보,스마트시스템소프트,화학'], [' ', '전기-스마트시스템', ' ', ' ', ' ', '5006762902', '(공통)물리2및실험', ' ', '김수경\\r\\n김수경\\r\\n이동재\\r\\n이동재', '물리학과', '4.00 /3.0 (0 )', '18', '7', '화 16:30-17:20 (숭덕경상관 02317-김수경)\\r\\n화 17:30-18:20 (숭덕경상관 02317-김수경)\\r\\n목 15:00-15:50 (물리실험실 12215-이동재)\\r\\n목 16:00-16:50 (물리실험실 12215-이동재)', '전체학년 전기,기계,전자정보,스마트시스템소프트,화학'], [' ', '전선-스마트시스템', ' ', ' ', ' ', '2150893001', '국내장기현장실습(6)', ' ', ' ', '경력개발팀', '6.00 /6.0', '36', '0', ' ', '전체'], [' ', '전선-스마트시스템', '복선-스마트시스템/부선-스마트시스템', ' ', ' ', '2150686901', '디지털회로설계', ' ', '신동화\\r\\n신동화', '스마트시스템소프트웨어학과', '3.00 /3.0 (0 )', '9', '51', '월 15:00-16:15 (문화관 03312-신동화)\\r\\n수 15:00-16:15 (문화관 03312-신동화)', '전체'], [' ', '전필-스마트시스템', '복선-스마트시스템/부선-스마트시스템', ' ', ' ', '2150054701', '마이크로프로세서응용실험(가)', ' ', '손장우\\r\\n손장우', '스마트시스템소프트웨어학과', '2.00 /1.0', '8', '20', '목 10:30-11:20 (문화관 03408-손장우)\\r\\n목 11:30-12:20 (문화관 03408-손장우)', '전체'], [' ', '전필-스마트시스템', '복선-스마트시스템/부선-스마트시스템', ' ', ' ', '2150054702', '마이크로프로세서응용실험(나)', ' ', '손장우\\r\\n손장우', '스마트시스템소프트웨어학과', '2.00 /1.0', '6', '22', '목 15:00-15:50 (문화관 03408-손장우)\\r\\n목 16:00-16:50 (문화관 03408-손장우)', '전체'], [' ', '전선-스마트시스템', '복필-스마트시스템/부선-스마트시스템/융선-빅데이터융합/융선-빅데이터융합/융선-스마트자동차융합/융선-스마트자동차융합', ' ', ' ', '2150014001', '알고리즘', ' ', '윤익준\\r\\n윤익준', '스마트시스템소프트웨어학과', '3.00 /3.0', '63', '2', '월 09:00-10:15 (문화관 03307-윤익준)\\r\\n목 12:00-13:15 (문화관 03307-윤익준)', '전체']]\n"
     ]
    }
   ],
   "source": [
    "print(Sanitizer.table_to_list(parser.get_data(ParserActions.SEARCH))[0:10])"
   ]
  },
  {
   "cell_type": "code",
   "execution_count": 9,
   "metadata": {
    "pycharm": {
     "is_executing": true
    }
   },
   "outputs": [
    {
     "name": "stdout",
     "output_type": "stream",
     "text": [
      "[('WDE9', '학부전공별학부전공별'), ('WD010B', '교양필수교양필수'), ('WD010E', '교양선택교양선택'), ('WD0111', '교직교직'), ('WD0114', '평생교육사평생교육사'), ('WD0117', '일반선택일반선택'), ('WD011A', '대학원대학원'), ('WD011D', '연계전공연계전공'), ('WD0120', '융합전공융합전공'), ('WD0123', '교수명검색교수명검색'), ('WD0126', '과목검색과목검색'), ('WD0129', '타전공인정과목타전공인정과목'), ('WD012C', '듀얼리스팅과목듀얼리스팅과목')]\n"
     ]
    }
   ],
   "source": [
    "print(parser.get_selection(ParserActions.TAB))"
   ]
  },
  {
   "cell_type": "code",
   "execution_count": 10,
   "metadata": {
    "pycharm": {
     "is_executing": true
    }
   },
   "outputs": [
    {
     "name": "stdout",
     "output_type": "stream",
     "text": [
      "2\n",
      "[('0000', '전체학년'), ('0001', '1학년'), ('0002', '2학년'), ('0003', '3학년'), ('0004', '4학년'), ('0005', '5학년')]\n"
     ]
    }
   ],
   "source": [
    "parser.action(ParserActions.TAB, 'WD010B')\n",
    "\n",
    "print(parser.max_sel)\n",
    "print(parser.get_selection(ParserActions.SEL1))"
   ]
  },
  {
   "cell_type": "code",
   "execution_count": 11,
   "metadata": {
    "pycharm": {
     "is_executing": true
    }
   },
   "outputs": [
    {
     "name": "stdout",
     "output_type": "stream",
     "text": [
      "[('21500183', '현대인과성서세미나'), ('21500188', '컴퓨팅적사고'), ('21500516', '기업가정신과행동'), ('21500519', '사고와표현'), ('21501815', 'Academic Writing in English1'), ('21501816', 'Academic Writing in English2'), ('21503037', '현대인과성서'), ('21506528', 'Academic Writing in English2(고급)'), ('21506634', '한반도평화와통일'), ('21506684', '숭실인의역량과진로탐색1')]\n"
     ]
    }
   ],
   "source": [
    "parser.action(ParserActions.SEL1, '0001')\n",
    "\n",
    "print(parser.get_selection(ParserActions.SEL2))"
   ]
  },
  {
   "cell_type": "code",
   "execution_count": 12,
   "metadata": {
    "pycharm": {
     "is_executing": true
    }
   },
   "outputs": [
    {
     "name": "stdout",
     "output_type": "stream",
     "text": [
      "<tbody id=\"WD0176-contentTBody\"><tr rt=\"2\"><th captionid=\"WD017B\" class=\"urSTHC urBorderBox urST5HCMetricStd lsSTHdrSepBrdTop lsSTHdrSepBrdBottom urST5HCColorLvl1 urST4LbHdrBg\" headertype=\"S\" id=\"WD017A\" lsdata=\"{7:'강의계획서\\x20유무\\x20\\x2801\\x3a\\x20없음,\\x2002\\x3a\\x20있음\\x29'}\" lsmatrixrowindex=\"-2147483648\" sst=\"4\" style=\"text-align:center;\" subct=\"HC\" title=\"강의계획서 유무 (01: 없음, 02: 있음)\"><div class=\"urBorderBox\" style=\"height:100%;width:100%;overflow:hidden;\"><div align=\"center\" class=\"ls-sthcfocus urST5HCMetricContent urBorderBox urST5HCMetricSelColToggleWidth\" style=\"white-space:nowrap;\" title=\"강의계획서 유무 (01: 없음, 02: 있음)\"><span id=\"WD017A-CONTENT\" style=\"white-space:nowrap;\"><span class=\"\" ct=\"CP\" id=\"WD017B\" lsdata=\"{0:'강의계획서\\x20유무\\x20\\x2801\\x3a\\x20없음,\\x2002\\x3a\\x20있음\\x29',1:'계획',6:false}\" title=\"강의계획서 유무 (01: 없음, 02: 있음)\">계획</span></span></div></div></th><th acf=\"HCSORT\" captionid=\"WD017D\" class=\"urSTHC urBorderBox urST5HCMetricStd lsSTHdrSepBrdTop lsSTHdrSepBrdBottom urST5HCColorLvl1 urST4\n",
      "...\n",
      "td cc=\"13\" class=\"urSTC urST3TD urAlt\" id=\"WD0C97\" lsdata=\"{3:'ALTERNATING'}\" style=\"white-space:normal;vertical-align:top;\" subct=\"STC\" ut=\"2\"><span class=\"lsTextView--root lsControl--valign\" id=\"WD0C98-r\"><span class=\"lsTextView lsTextView--paragraph lsTextView--usedInTable urTxtStd urTxtColor\" ct=\"TV\" id=\"WD0C98\" lsdata=\"{11:true}\" style=\"white-space:normal;\" tabindex=\"-1\" ti=\"-1\">수 09:00-10:50 (진리관 컴퓨터실 11310-강의선)<br/>수 09:00-10:30 (진리관 컴퓨터실 11310-강의선)</span></span></td><td cc=\"14\" class=\"urSTC urST3TD urAlt\" id=\"WD0C99\" lsdata=\"{3:'ALTERNATING'}\" style=\"white-space:normal;vertical-align:top;\" subct=\"STC\" ut=\"2\"><span class=\"lsTextView--root lsControl--valign\" id=\"WD0C9A-r\"><span class=\"lsTextView lsTextView--paragraph lsTextView--usedInTable urTxtStd urTxtColor\" ct=\"TV\" id=\"WD0C9A\" lsdata=\"{11:true}\" style=\"white-space:normal;\" tabindex=\"-1\" ti=\"-1\">4학년 인문대 ,법대 ,사회대 ,경영대 ,경통대<br/>5학년 인문대 ,법대 ,사회대 ,경영대 ,경통대(10.27~12.21)( 인문계열 재수강 ) (대상외수강제한)(대상외수강제한)</span></span></td></tr></tbody\n"
     ]
    }
   ],
   "source": [
    "parser.action(ParserActions.SEL2, '21500188')\n",
    "parser.action(ParserActions.SEARCH, None)\n",
    "\n",
    "short_print(parser.get_data(ParserActions.SEARCH), 1000)"
   ]
  },
  {
   "cell_type": "code",
   "execution_count": 13,
   "metadata": {
    "pycharm": {
     "is_executing": true
    },
    "scrolled": true
   },
   "outputs": [
    {
     "name": "stdout",
     "output_type": "stream",
     "text": [
      "<tbody id=\"WD0176-contentTBody\"><tr rt=\"2\"><th captionid=\"WD017B\" class=\"urSTHC urBorderBox urST5HCMetricStd lsSTHdrSepBrdTop lsSTHdrSepBrdBottom urST5HCColorLvl1 urST4LbHdrBg\" headertype=\"S\" id=\"WD017A\" lsdata=\"{7:'강의계획서\\x20유무\\x20\\x2801\\x3a\\x20없음,\\x2002\\x3a\\x20있음\\x29'}\" lsmatrixrowindex=\"-2147483648\" sst=\"4\" style=\"text-align:center;\" subct=\"HC\" title=\"강의계획서 유무 (01: 없음, 02: 있음)\"><div class=\"urBorderBox\" style=\"height:100%;width:100%;overflow:hidden;\"><div align=\"center\" class=\"ls-sthcfocus urST5HCMetricContent urBorderBox urST5HCMetricSelColToggleWidth\" style=\"white-space:nowrap;\" title=\"강의계획서 유무 (01: 없음, 02: 있음)\"><span id=\"WD017A-CONTENT\" style=\"white-space:nowrap;\"><span class=\"\" ct=\"CP\" id=\"WD017B\" lsdata=\"{0:'강의계획서\\x20유무\\x20\\x2801\\x3a\\x20없음,\\x2002\\x3a\\x20있음\\x29',1:'계획',6:false}\" title=\"강의계획서 유무 (01: 없음, 02: 있음)\">계획</span></span></div></div></th><th acf=\"HCSORT\" captionid=\"WD017D\" class=\"urSTHC urBorderBox urST5HCMetricStd lsSTHdrSepBrdTop lsSTHdrSepBrdBottom urST5HCColorLvl1 urST4\n",
      "...\n",
      "r\" ct=\"TV\" id=\"WD0E16\" lsdata=\"{11:true}\" style=\"white-space:nowrap;\" tabindex=\"-1\" ti=\"-1\">0</span></span></td><td cc=\"13\" class=\"urSTC urST3TD urAlt\" id=\"WD0E17\" lsdata=\"{3:'ALTERNATING'}\" style=\"white-space:normal;vertical-align:top;\" subct=\"STC\" ut=\"2\"><span class=\"lsTextView--root lsControl--valign\" id=\"WD0E18-r\"><span class=\"lsTextView lsTextView--paragraph lsTextView--usedInTable urTxtStd urTxtColor\" ct=\"TV\" id=\"WD0E18\" lsdata=\"{11:true}\" style=\"white-space:normal;\" tabindex=\"-1\" ti=\"-1\">화 금 10:30-11:45 (진리관 11402-최미정)</span></span></td><td cc=\"14\" class=\"urSTC urST3TD urAlt\" id=\"WD0E19\" lsdata=\"{3:'ALTERNATING'}\" style=\"white-space:normal;vertical-align:top;\" subct=\"STC\" ut=\"2\"><span class=\"lsTextView--root lsControl--valign\" id=\"WD0E1A-r\"><span class=\"lsTextView lsTextView--paragraph lsTextView--usedInTable urTxtStd urTxtColor\" ct=\"TV\" id=\"WD0E1A\" lsdata=\"{11:true}\" style=\"white-space:normal;\" tabindex=\"-1\" ti=\"-1\">1학년 법대 ,경영대 (대상외수강제한)(대상외수강제한)</span></span></td></tr></tbody\n"
     ]
    }
   ],
   "source": [
    "parser.action(ParserActions.SEL2, '21500519')\n",
    "parser.action(ParserActions.SEARCH, None)\n",
    "\n",
    "short_print(parser.get_data(ParserActions.SEARCH), 1000)"
   ]
  },
  {
   "cell_type": "code",
   "execution_count": 14,
   "metadata": {},
   "outputs": [
    {
     "name": "stdout",
     "output_type": "stream",
     "text": [
      "[['계획', '이수구분(주전공)', '이수구분(다전공)', '공학인증', '교과영역', '과목번호', '과목명', '분반', '교수명', '개설학과', '시간/학점(설계)', '수강인원', '여석', '강의시간(강의실)', '수강대상'], [' ', '교필', ' ', ' ', ' ', '2150051967', '사고와표현', ' ', '최동일', '베어드교양대학 행정팀', '3.00 /3.0', '23', '1', '화 금 13:30-14:45 (미래관 20503-최동일)', '전체학년 ;순수외국인입학생 (대상외수강제한)(대상외수강제한)'], [' ', '교필', ' ', ' ', ' ', '2150051968', '사고와표현', ' ', '윤선희', '베어드교양대학 행정팀', '3.00 /3.0', '22', '2', '화 금 13:30-14:45 (미래관 20109-윤선희)', '전체학년 ;순수외국인입학생 (대상외수강제한)(대상외수강제한)'], [' ', '교필', ' ', ' ', ' ', '2150051969', '사고와표현', ' ', '이미정', '베어드교양대학 행정팀', '3.00 /3.0', '16', '8', '화 금 13:30-14:45 (진리관 11214-이미정)', '전체학년 ;순수외국인입학생 (대상외수강제한)(대상외수강제한)'], [' ', '교필', ' ', ' ', ' ', '2150051970', '사고와표현', ' ', '이상욱', '베어드교양대학 행정팀', '3.00 /3.0', '23', '1', '화 금 13:30-14:45 (미래관 20502-이상욱)', '전체학년 ;순수외국인입학생 (대상외수강제한)(대상외수강제한)'], [' ', '교필', ' ', ' ', ' ', '2150051971', '사고와표현', ' (공통-재수강)', '최동일', '베어드교양대학 행정팀', '3.00 /3.0', '19', '5', '화 금 12:00-13:15 (미래관 20503-최동일)', '2,3,4학년 전체 (1학년 제외) (대상외수강제한)(대상외수강제한)'], [' ', '교필', ' ', ' ', ' ', '2150051972', '사고와표현', ' (공통-재수강)', '박선영', '베어드교양대학 행정팀', '3.00 /3.0', '22', '2', '월 수 12:00-13:15 (조만식기념관 12406-박선영)', '2,3,4학년 전체 (1학년 제외) (대상외수강제한)(대상외수강제한)'], [' ', '교필', ' ', ' ', ' ', '2150051901', '사고와표현', ' ', '이진숙', '베어드교양대학 행정팀', '3.00 /3.0', '23', '1', '월 수 10:30-11:45 (진리관 11111-이진숙)', '1학년 인문대 (대상외수강제한)(대상외수강제한)'], [' ', '교필', ' ', ' ', ' ', '2150051902', '사고와표현', ' ', '김희진', '베어드교양대학 행정팀', '3.00 /3.0', '24', '0', '월 수 10:30-11:45 (진리관 11112-김희진)', '1학년 인문대 (대상외수강제한)(대상외수강제한)'], [' ', '교필', ' ', ' ', ' ', '2150051903', '사고와표현', ' ', '이은희', '베어드교양대학 행정팀', '3.00 /3.0', '23', '1', '월 수 10:30-11:45 (진리관 11113-이은희)', '1학년 인문대 (대상외수강제한)(대상외수강제한)']]\n"
     ]
    }
   ],
   "source": [
    "print(Sanitizer.table_to_list(parser.get_data(ParserActions.SEARCH))[0:10])"
   ]
  },
  {
   "cell_type": "code",
   "execution_count": null,
   "metadata": {},
   "outputs": [],
   "source": []
  }
 ],
 "metadata": {
  "kernelspec": {
   "display_name": "Python 3",
   "language": "python",
   "name": "python3"
  },
  "language_info": {
   "codemirror_mode": {
    "name": "ipython",
    "version": 3
   },
   "file_extension": ".py",
   "mimetype": "text/x-python",
   "name": "python",
   "nbconvert_exporter": "python",
   "pygments_lexer": "ipython3",
   "version": "3.6.8"
  },
  "pycharm": {
   "stem_cell": {
    "cell_type": "raw",
    "metadata": {
     "collapsed": false
    },
    "source": []
   }
  }
 },
 "nbformat": 4,
 "nbformat_minor": 1
}
