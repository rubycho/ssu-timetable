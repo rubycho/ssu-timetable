{
 "cells": [
  {
   "cell_type": "markdown",
   "metadata": {},
   "source": [
    "## 패키지 제공 클래스\n",
    "\n",
    "이 문서는 `ssu_timetable` 패키지가 제공하는 클래스를 안내합니다."
   ]
  },
  {
   "cell_type": "markdown",
   "metadata": {},
   "source": [
    "### class Config\n",
    "상수 보관 클래스. 필요할 경우 멤버변수를 변경하여 사용할 수 있다.\n",
    "\n",
    "`Parser`의 생성자에서 해당 클래스의 인스턴스를 요구한다.\n",
    "\n",
    "#### Members\n",
    "- `MAIN_TABLE_ID`: 과목 목록이 표시되는 &lt;table&gt;의 id."
   ]
  },
  {
   "cell_type": "markdown",
   "metadata": {},
   "source": [
    "### class ParserActions (enum)\n",
    "`Parser`에서 사용한다.\n",
    "\n",
    "#### Members\n",
    "- `INIT`: 처음 접속\n",
    "- `YEAR`: 연도 선택 액션\n",
    "- `SEMESTER`: 학기 선택 액션\n",
    "- `TAB`: 탭 선택 액션\n",
    "- `SEL1`: 콤보박스1 선택 액션\n",
    "- `SEL2`: 콤보박스2 선택 액션\n",
    "- `SEL3`: 콤보박스3 선택 액션\n",
    "- `SEARCH`: 검색 버튼 클릭 액션\n",
    "- `LINE`: 줄 수 선택 액션"
   ]
  },
  {
   "cell_type": "markdown",
   "metadata": {},
   "source": [
    "### class Parser\n",
    "파서 클래스.\n",
    "\n",
    "#### Members\n",
    "- `Parser(config: Config)`\n",
    "- `action(action: ParserActions, value: any)`: `action`에 따른 요청을 수행한다.\n",
    "- `get_selection(action: ParserActions)`: 해당 `action`에서 사용할 수 있는 `value`의 종류를 반환한다. \n",
    "- `get_data(action: ParserActions)`: 해당 `action`의 결과(response)을 반환한다.\n",
    "- `max_sel`: 콤보박스의 개수를 나타낸다.\n",
    "\n",
    "#### How it works\n",
    "멤버함수 `action`의 임무는 다음과 같다.\n",
    "1. `value`를 반영하여 시스템에 요청을 보낸다.\n",
    "1. 응답에 따라 다음 액션에서 사용할 수 있는 선택값을 업데이트한다. (있을 경우)\n",
    "1. 응답을 내부에 저장한다.\n",
    "\n",
    "2.의 결과는 `get_selection`, 3.의 결과는 `get_data`를 통해 확인할 수 있다.\n",
    "\n",
    "다음 시나리오가 이해에 도움을 줄 수 있다."
   ]
  },
  {
   "cell_type": "markdown",
   "metadata": {},
   "source": [
    "* 처음 접속은 값이 필요 없다."
   ]
  },
  {
   "cell_type": "code",
   "execution_count": 1,
   "metadata": {},
   "outputs": [],
   "source": [
    "from ssu_timetable import Config, Parser, ParserActions\n",
    "\n",
    "config = Config()\n",
    "parser = Parser(config)\n",
    "\n",
    "parser.action(ParserActions.INIT, None)"
   ]
  },
  {
   "cell_type": "markdown",
   "metadata": {},
   "source": [
    "* 접속 후 파서가 연도, 학기, 탭, 줄 수 선택지를 업데이트 했을 것이다. 일반적으로 선택지는 튜플 `(id, text)`이다."
   ]
  },
  {
   "cell_type": "code",
   "execution_count": 2,
   "metadata": {},
   "outputs": [
    {
     "name": "stdout",
     "output_type": "stream",
     "text": [
      "YEAR: \n",
      "[('1954', '1954학년도'), ('1955', '1955학년도'), ('1956', '1956학년도'), ('1957', '1957학년도'), ('1958', '1958학년도'), ('1959', '1959학년도'), ('1960', '1960학년도'), ('1961', '1961학년도'), ('1962', '1962학년도'), ('1963', '1963학년도'), ('1964', '1964학년도'), ('1965', '1965학년도'), ('1966', '1966학년도'), ('1967', '1967학년도'), ('1968', '1968학년도'), ('1969', '1969학년도'), ('1970', '1970학년도'), ('1971', '1971학년도'), ('1972', '1972학년도'), ('1973', '1973학년도'), ('1974', '1974학년도'), ('1975', '1975학년도'), ('1976', '1976학년도'), ('1977', '1977학년도'), ('1978', '1978학년도'), ('1979', '1979학년도'), ('1980', '1980학년도'), ('1981', '1981학년도'), ('1982', '1982학년도'), ('1983', '1983학년도'), ('1984', '1984학년도'), ('1985', '1985학년도'), ('1986', '1986학년도'), ('1987', '1987학년도'), ('1988', '1988학년도'), ('1989', '1989학년도'), ('1990', '1990학년도'), ('1991', '1991학년도'), ('1992', '1992학년도'), ('1993', '1993학년도'), ('1994', '1994학년도'), ('1995', '1995학년도'), ('1996', '1996학년도'), ('1997', '1997학년도'), ('1998', '1998학년도'), ('1999', '1999학년도'), ('2000', '2000학년도'), ('2001', '2001학년도'), ('2002', '2002학년도'), ('2003', '2003학년도'), ('2004', '2004학년도'), ('2005', '2005학년도'), ('2006', '2006학년도'), ('2007', '2007학년도'), ('2008', '2008학년도'), ('2009', '2009학년도'), ('2010', '2010학년도'), ('2011', '2011학년도'), ('2012', '2012학년도'), ('2013', '2013학년도'), ('2014', '2014학년도'), ('2015', '2015학년도'), ('2016', '2016학년도'), ('2017', '2017학년도'), ('2018', '2018학년도'), ('2019', '2019학년도'), ('2020', '2020학년도'), ('2021', '2021학년도'), ('2022', '2022학년도'), ('2023', '2023학년도'), ('2024', '2024학년도'), ('2025', '2025학년도'), ('2026', '2026학년도'), ('2027', '2027학년도'), ('2028', '2028학년도'), ('2029', '2029학년도'), ('2030', '2030학년도')]\n",
      "\n",
      "SEMESTER: \n",
      "[('090', '1 학기'), ('091', '여름학기'), ('092', '2 학기'), ('093', '겨울학기')]\n",
      "\n",
      "LINES: \n",
      "[('10', '10줄'), ('20', '20줄'), ('50', '50줄'), ('100', '100줄'), ('200', '200줄'), ('500', '500줄')]\n",
      "\n",
      "TABS: \n",
      "[('WDE9', '학부전공별학부전공별'), ('WD010B', '교양필수교양필수'), ('WD010E', '교양선택교양선택'), ('WD0111', '교직교직'), ('WD0114', '평생교육사평생교육사'), ('WD0117', '일반선택일반선택'), ('WD011A', '대학원대학원'), ('WD011D', '연계전공연계전공'), ('WD0120', '융합전공융합전공'), ('WD0123', '교수명검색교수명검색'), ('WD0126', '과목검색과목검색'), ('WD0129', '타전공인정과목타전공인정과목'), ('WD012C', '듀얼리스팅과목듀얼리스팅과목')]\n"
     ]
    }
   ],
   "source": [
    "print(\"YEAR: \")\n",
    "print(parser.get_selection(ParserActions.YEAR))\n",
    "\n",
    "print(\"\\nSEMESTER: \")\n",
    "print(parser.get_selection(ParserActions.SEMESTER))\n",
    "\n",
    "print(\"\\nLINES: \")\n",
    "print(parser.get_selection(ParserActions.LINE))\n",
    "\n",
    "print(\"\\nTABS: \")\n",
    "print(parser.get_selection(ParserActions.TAB))"
   ]
  },
  {
   "cell_type": "markdown",
   "metadata": {},
   "source": [
    "* 필요에 따라 값을 설정한다."
   ]
  },
  {
   "cell_type": "code",
   "execution_count": 3,
   "metadata": {},
   "outputs": [],
   "source": [
    "parser.action(ParserActions.YEAR, '2020')\n",
    "parser.action(ParserActions.SEMESTER, '090')\n",
    "parser.action(ParserActions.LINE, '500')\n",
    "parser.action(ParserActions.TAB, 'WDE9')"
   ]
  },
  {
   "cell_type": "markdown",
   "metadata": {},
   "source": [
    "* 탭이 설정되면 콤보박스와 버튼에 대한 정보가 업데이트 되었을 것이다. `max_sel`은 콤보박스의 개수이다. 만약 0이라면 바로 `SEARCH`를 사용하면 된다."
   ]
  },
  {
   "cell_type": "code",
   "execution_count": 4,
   "metadata": {},
   "outputs": [
    {
     "name": "stdout",
     "output_type": "stream",
     "text": [
      "3\n"
     ]
    }
   ],
   "source": [
    "print(parser.max_sel)"
   ]
  },
  {
   "cell_type": "markdown",
   "metadata": {},
   "source": [
    "* 콤보박스의 값들을 설정해준다.\n",
    "    * 처음 탭이 설정되면, (첫번째 콤보박스가 존재한다면) SEL1의 선택지가 업데이트된다.\n",
    "    * SEL1이 설정되면 (두번째 콤보박스가 존재한다면) SEL2의 선택지가 업데이트된다.\n",
    "    * SEL2가 설정되면 (세번째 콤보박스가 존재한다면) SEL3의 선택지가 업데이트된다."
   ]
  },
  {
   "cell_type": "code",
   "execution_count": 5,
   "metadata": {},
   "outputs": [
    {
     "name": "stdout",
     "output_type": "stream",
     "text": [
      "[('11000001', '인문대학'), ('11000012', '자연과학대학'), ('11000017', '법과대학'), ('11000019', '사회과학대학'), ('11000025', '경제통상대학'), ('50057775', '경영대학'), ('11000029', '공과대학'), ('11000037', 'IT대학'), ('11000163', '베어드교양대학'), ('10002225', '융합특성화자유전공학부')]\n"
     ]
    }
   ],
   "source": [
    "print(parser.get_selection(ParserActions.SEL1))"
   ]
  },
  {
   "cell_type": "code",
   "execution_count": 6,
   "metadata": {},
   "outputs": [
    {
     "name": "stdout",
     "output_type": "stream",
     "text": [
      "[('10002101', '전자정보공학부 전자공학전공'), ('10002102', '전자정보공학부 IT융합전공'), ('11000038', '컴퓨터학부'), ('10001326', '소프트웨어학부'), ('11000036', '정보통신전자공학부'), ('10001327', '스마트시스템소프트웨어학과'), ('11000039', '글로벌미디어학부'), ('10001403', '미디어경영학과')]\n"
     ]
    }
   ],
   "source": [
    "parser.action(ParserActions.SEL1, '11000037')\n",
    "print(parser.get_selection(ParserActions.SEL2))"
   ]
  },
  {
   "cell_type": "code",
   "execution_count": 7,
   "metadata": {},
   "outputs": [
    {
     "name": "stdout",
     "output_type": "stream",
     "text": [
      "[('50296767', '스마트시스템소프트웨어학과')]\n"
     ]
    }
   ],
   "source": [
    "parser.action(ParserActions.SEL2, '10001327')\n",
    "print(parser.get_selection(ParserActions.SEL3))"
   ]
  },
  {
   "cell_type": "code",
   "execution_count": 8,
   "metadata": {},
   "outputs": [],
   "source": [
    "parser.action(ParserActions.SEL3, '50296767')"
   ]
  },
  {
   "cell_type": "markdown",
   "metadata": {},
   "source": [
    "* 모든 세팅이 끝났다면 검색하여 데이터를 추출한다."
   ]
  },
  {
   "cell_type": "code",
   "execution_count": 9,
   "metadata": {},
   "outputs": [
    {
     "name": "stdout",
     "output_type": "stream",
     "text": [
      "<tbody id=\"WD0176-contentTBody\"><tr rt=\"2\"><th captionid=\"WD017B\" class=\"urSTHC urBorderBox urST5HCMetricStd lsSTHdrSepBrdTop lsSTHdrSepBrdBottom urST5HCColorLvl1 urST4LbHdrBg\" headertype=\"S\" id=\"WD017A\" lsdata=\"{7:'강의계획서\\x20유무\\x20\\x2801\\x3a\\x20없음,\\x2002\\x3a\\x20있음\\x29'}\" lsmatrixrowindex=\"-2147483648\" sst=\"4\" style=\"text-align:center;\" subct=\"HC\" title=\"강의계획서 유무 (01: 없음, 02: 있음)\"><div class=\"urBorderBox\" style=\"height:100%;width:100%;overflow:hidden;\"><div align=\"center\" class=\"ls-sthcfocus urST5HCMetricContent urBorderBox urST5HCMetricSelColToggleWidth\" style=\"white-space:nowrap;\" title=\"강의계획서 유무 (01: 없음, 02: 있음)\"><span id=\"WD017A-CONTENT\" style=\"white-space:nowrap;\"><span class=\"\" ct=\"CP\" id=\"WD017B\" lsdata=\"{0:'강의계획서\\x20유무\\x20\\x2801\\x3a\\x20없음,\\x2002\\x3a\\x20있음\\x29',1:'계획',6:false}\" title=\"강의계획서 유무 (01: 없음, 02: 있음)\">계획</span></span></div></div></th><th acf=\"HCSORT\" captionid=\"WD017D\" class=\"urSTHC urBorderBox urST5HCMetricStd lsSTHdrSepBrdTop lsSTHdrSepBrdBottom urST5HCColorLvl1 urST4 \n",
      "...\n",
      " 692\" lsdata=\"{3:'ALTERNATING'}\" style=\"white-space:normal;vertical-align:top;\" subct=\"STC\" ut=\"2\"><span class=\"lsTextView--root lsControl--valign\" id=\"WD0693-r\"><span class=\"lsTextView lsTextView--paragraph lsTextView--usedInTable urTxtStd urTxtColor\" ct=\"TV\" id=\"WD0693\" lsdata=\"{11:true}\" style=\"white-space:normal;\" tabindex=\"-1\" ti=\"-1\">월 수 12:00-13:15 (숭덕경상관 02212-황선욱)</span></span></td><td cc=\"14\" class=\"urSTC urST3TD urAlt\" id=\"WD0694\" lsdata=\"{3:'ALTERNATING'}\" style=\"white-space:normal;vertical-align:top;\" subct=\"STC\" ut=\"2\"><span class=\"lsTextView--root lsControl--valign\" id=\"WD0695-r\"><span class=\"lsTextView lsTextView--paragraph lsTextView--usedInTable urTxtStd urTxtColor\" ct=\"TV\" id=\"WD0695\" lsdata=\"{11:true}\" style=\"white-space:normal;\" tabindex=\"-1\" ti=\"-1\">2학년 전자정보, 신소재, 전기, 기계, 화공, 산업정보 ,건축학부, 건축공학<br/>3학년 전자정보, 신소재, 전기, 기계, 화공, 산업정보 ,건축학부, 건축공학<br/>4학년 전자정보, 신소재, 전기, 기계, 화공, 산업정보 ,건축학부, 건축공학<br/>5학년 전자정보, 신소재, 전기, 기계, 화공, 산업정보 ,건축학부, 건축공학</span></span></td></tr></tbody\n"
     ]
    }
   ],
   "source": [
    "parser.action(ParserActions.SEARCH, None)\n",
    "print(parser.get_data(ParserActions.SEARCH)[0:1000], '\\n...\\n', parser.get_data(ParserActions.SEARCH)[-1000:-1])"
   ]
  },
  {
   "cell_type": "markdown",
   "metadata": {},
   "source": [
    "### Sanitizer\n",
    "데이터 가공 클래스.\n",
    "\n",
    "#### Members\n",
    "- `static table_to_list(data: str)`: 파라미터 `data`에 `Parser().get_data(ParserActions.SEARCH)`의 결과를\n",
    "정리해준다.\n",
    "\n",
    "#### Example"
   ]
  },
  {
   "cell_type": "code",
   "execution_count": 10,
   "metadata": {
    "pycharm": {
     "is_executing": true
    }
   },
   "outputs": [
    {
     "name": "stdout",
     "output_type": "stream",
     "text": [
      "[['계획', '이수구분(주전공)', '이수구분(다전공)', '공학인증', '교과영역', '과목번호', '과목명', '분반', '교수명', '개설학과', '시간/학점(설계)', '수강인원', '여석', '강의시간(강의실)', '수강대상'], [' ', '전기-스마트시스템', ' ', ' ', ' ', '5006762801', '(공통)물리1및실험', ' ', '김창배\\r\\n김창배\\r\\n최현희\\r\\n최현희', '물리학과', '4.00 /3.0 (0 )', '23', '2', '월 15:00-15:50 (조만식기념관 12124-김창배)\\r\\n월 16:00-16:50 (조만식기념관 12124-김창배)\\r\\n수 15:00-15:50 (형남공학관 050107-최현희)\\r\\n수 16:00-16:50 (형남공학관 050107-최현희)', '전체학년 기계 ,화공 ,전기 ,건축학부 ,신소재 ,정통전, 전자정보공학부 ,스마트시스템소프트 ,물리 ,화학 ,건축학부'], [' ', '전기-스마트시스템', ' ', ' ', ' ', '5006762802', '(공통)물리1및실험', ' ', '최현희\\r\\n최현희\\r\\n최현희\\r\\n최현희', '물리학과', '4.00 /3.0 (0 )', '25', '0', '월 15:00-15:50 (조만식기념관 12214-최현희)\\r\\n월 16:00-16:50 (조만식기념관 12214-최현희)\\r\\n수 15:00-15:50 (형남공학관 050107-최현희)\\r\\n수 16:00-16:50 (형남공학관 050107-최현희)', '전체학년 기계 ,화공 ,전기 ,건축학부 ,신소재 ,정통전, 전자정보공학부 ,스마트시스템소프트 ,물리 ,화학 ,건축학부'], [' ', '전선-스마트시스템', '융필-빅데이터융합/융필-빅데이터융합', ' ', ' ', '2150687601', '빅데이터분석', ' ', '김희찬\\r\\n김희찬', '소프트웨어학부', '3.00 /3.0', '52', '3', '월 16:30-17:45 (정보과학관 21203 김재상강의실-김희찬)\\r\\n수 16:30-17:45 (정보과학관 21101-김희찬)', '전체학년 빅데이터융합'], [' ', '전선-스마트시스템', ' ', ' ', ' ', '5008716301', '전공심화전문가양성교육(3)', ' ', ' ', '경력개발팀', '3.00 /3.0', '0', '0', ' ', '학점인정 승인 대상 과목으로 직접 신청 불가(1학년 및 순수외국인 신청 불가)'], [' ', '전선-스마트시스템', ' ', ' ', ' ', '5008716801', '전공심화전문가양성교육(6)', ' ', ' ', '경력개발팀', '6.00 /6.0', '0', '0', ' ', '학점인정 승인 대상 과목으로 직접 신청 불가(1학년 및 순수외국인 신청 불가)'], [' ', '전기-스마트시스템', ' ', ' ', ' ', '2150679701', '공학수학', ' ', '정선태\\r\\n정선태', '스마트시스템소프트웨어학과', '3.00 /3.0', '61', '0', '화 13:30-14:45 (문화관 03407-정선태)\\r\\n목 13:30-14:45 (문화관 03314-정선태)', '1학년 스마트시스템소프트'], [' ', '전기-스마트시스템', ' ', ' ', ' ', '2150054401', '물리및실험', ' ', '홍영우\\r\\n홍영우\\r\\n최현희\\r\\n최현희', '스마트시스템소프트웨어학과', '4.00 /3.0', '12', '13', '월 09:00-09:50 (정보과학관 21403-홍영우)\\r\\n월 10:00-10:50 (정보과학관 21403-홍영우)\\r\\n화 09:00-09:50 (조만식기념관 12123-최현희)\\r\\n화 10:00-10:50 (조만식기념관 12123-최현희)', '1학년 스마트시스템소프트'], [' ', '전기-스마트시스템', ' ', ' ', ' ', '2150054402', '물리및실험', ' ', '김수경\\r\\n김수경\\r\\n김수경\\r\\n김수경', '스마트시스템소프트웨어학과', '4.00 /3.0', '25', '0', '월 09:00-09:50 (조만식기념관 12123-김수경)\\r\\n월 10:00-10:50 (조만식기념관 12123-김수경)\\r\\n화 09:00-09:50 (컴퓨터학부 PC실습실 21303-김수경)\\r\\n화 10:00-10:50 (컴퓨터학부 PC실습실 21303-김수경)', '1학년 스마트시스템소프트'], [' ', '전기-스마트시스템', ' ', ' ', ' ', '2150054403', '물리및실험', ' ', '김창배\\r\\n김창배\\r\\n김수경\\r\\n김수경', '스마트시스템소프트웨어학과', '4.00 /3.0', '25', '0', '월 12:00-12:50 (조만식기념관 12123-김창배)\\r\\n월 13:00-13:50 (조만식기념관 12123-김창배)\\r\\n화 09:00-09:50 (컴퓨터학부 PC실습실 21303-김수경)\\r\\n화 10:00-10:50 (컴퓨터학부 PC실습실 21303-김수경)', '1학년 스마트시스템소프트']]\n"
     ]
    }
   ],
   "source": [
    "from ssu_timetable import Sanitizer\n",
    "\n",
    "data = parser.get_data(ParserActions.SEARCH)\n",
    "print(Sanitizer.table_to_list(data)[0:10])"
   ]
  },
  {
   "cell_type": "code",
   "execution_count": null,
   "metadata": {},
   "outputs": [],
   "source": []
  }
 ],
 "metadata": {
  "kernelspec": {
   "display_name": "Python 3",
   "language": "python",
   "name": "python3"
  },
  "language_info": {
   "codemirror_mode": {
    "name": "ipython",
    "version": 3
   },
   "file_extension": ".py",
   "mimetype": "text/x-python",
   "name": "python",
   "nbconvert_exporter": "python",
   "pygments_lexer": "ipython3",
   "version": "3.6.8"
  },
  "pycharm": {
   "stem_cell": {
    "cell_type": "raw",
    "metadata": {
     "collapsed": false
    },
    "source": []
   }
  }
 },
 "nbformat": 4,
 "nbformat_minor": 1
}
